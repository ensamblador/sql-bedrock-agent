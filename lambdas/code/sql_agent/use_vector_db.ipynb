{
 "cells": [
  {
   "cell_type": "code",
   "execution_count": 20,
   "metadata": {},
   "outputs": [
    {
     "name": "stdout",
     "output_type": "stream",
     "text": [
      "API: puytqg6zmffolkkrdlkskx4sny\n",
      "Table: LicitacionDoc-puytqg6zmffolkkrdlkskx4sny-devbranch\n",
      "Bucket: documents60bfd-devbranch\n"
     ]
    }
   ],
   "source": [
    "import boto3\n",
    "import sys\n",
    "import json\n",
    "import os\n",
    "from boto3.dynamodb.conditions import Key\n",
    "from langchain_core.documents import Document\n",
    "from langchain_text_splitters import RecursiveCharacterTextSplitter\n",
    "from langchain_community.vectorstores import FAISS\n",
    "from anthropic  import Anthropic\n",
    "from langchain_community.embeddings import BedrockEmbeddings\n",
    "\n",
    "from utils import download_folder_s3\n",
    "sys.path.append(\"../../..\")\n",
    "\n",
    "\n",
    "from get_param import get_amplify_data, get_string_param\n",
    "\n",
    "tmp_path                    = \"./tmp\"\n",
    "TABLE_NAME, BUCKET_NAME = get_amplify_data()\n",
    "PAGES_TABLE_NAME        = get_string_param(\"/table/pages\")\n",
    "pages_table             = boto3.resource('dynamodb').Table(PAGES_TABLE_NAME)\n",
    "docum_table             = boto3.resource('dynamodb').Table(TABLE_NAME)\n",
    "s3_prefix               = \"private\"\n",
    "\n",
    "bedrock_client              = boto3.client(\"bedrock-runtime\")\n",
    "\n",
    "\n",
    "antro                   = Anthropic()\n",
    "\n",
    "with open(\"event.json\") as f:\n",
    "    event= json.load(f)\n",
    "#event"
   ]
  },
  {
   "cell_type": "code",
   "execution_count": 15,
   "metadata": {},
   "outputs": [],
   "source": [
    "path_parameters         = event.get(\"pathParameters\")\n",
    "document_id             = path_parameters.get(\"documentId\")\n",
    "document                = docum_table.get_item(Key={\"id\": document_id}).get(\"Item\")\n",
    "\n",
    "body_json               = event.get(\"body\")\n",
    "body                    = json.loads(body_json)if body_json else {}\n",
    "query                   = body.get(\"query\")\n",
    "num_docs                = body.get(\"num_docs\")\n",
    "query                   = query if query else \"\"\n",
    "num_docs                = num_docs if num_docs else 5\n",
    "\n",
    "\n",
    "embedding_model         = document.get(\"embeddingModel\")\n",
    "embedding_dimensions    = int(document.get(\"embeddingDimensions\")) if document.get(\"embeddingDimensions\") else  1024\n",
    "embedding_normalize     = bool(document.get(\"embeddingNormalize\")) if document.get(\"embeddingNormalize\") else True\n",
    "vector_store_type       = document.get(\"vectorStoreType\") or \"faiss\"\n",
    "file_name               = document.get(\"vectorStoreLocation\")\n",
    "ownerId                 = document.get(\"ownerId\")\n",
    "model_kwargs            = dict(dimensions=int(embedding_dimensions), normalize=embedding_normalize)\n",
    "kwargs_embedding        = dict(model_id=embedding_model, client=bedrock_client)\n",
    "\n",
    "if \"amazon.titan-embed-text-v2\" in embedding_model:\n",
    "    kwargs_embedding[\"model_kwargs\"] = model_kwargs\n",
    "\n",
    "embeddings              = BedrockEmbeddings(**kwargs_embedding)"
   ]
  },
  {
   "cell_type": "code",
   "execution_count": 16,
   "metadata": {},
   "outputs": [
    {
     "data": {
      "text/plain": [
       "('que se solicita?', 6, 'amazon.titan-embed-text-v2:0', 1024, True)"
      ]
     },
     "execution_count": 16,
     "metadata": {},
     "output_type": "execute_result"
    }
   ],
   "source": [
    "query, num_docs, embedding_model, embedding_dimensions, embedding_normalize"
   ]
  },
  {
   "cell_type": "code",
   "execution_count": 22,
   "metadata": {},
   "outputs": [
    {
     "name": "stdout",
     "output_type": "stream",
     "text": [
      "archivo faiss no existe\n",
      "archivo descargado\n"
     ]
    }
   ],
   "source": [
    "vector_location = f\"{s3_prefix}/{ownerId}/{file_name}\"\n",
    "local_path = f\"{tmp_path}/{file_name}\"\n",
    "\n",
    "if not os.path.exists(local_path):\n",
    "    print(\"archivo faiss no existe\")\n",
    "    download_folder_s3(BUCKET_NAME, vector_location, local_path)"
   ]
  },
  {
   "cell_type": "code",
   "execution_count": 24,
   "metadata": {},
   "outputs": [
    {
     "name": "stdout",
     "output_type": "stream",
     "text": [
      "[Document(metadata={'source': 'Banco Central.pdf', 'page': 2}, page_content='# V. Consideraciones\\n\\n- Se hace presente que este proceso de Consultas al Mercado no constituye una Cotización, por lo que los Proveedores deben abstenerse de enviar propuestas económicas.\\n- Esta solicitud se efectúa sólo para efectos informativos y no compromete en ningún caso al Banco Central de Chile para adquirir o contratar los Productos y/o Servicios individualizados.\\n- En caso de que el Banco Central de Chile requiera la adquisición o contratación de estos Productos y/o Servicios, se iniciará un Proceso de Cotización o Licitación a través de su Departamento de Adquisiciones.\\n\\n# VI. Cuestionario'), Document(metadata={'source': 'Banco Central.pdf', 'page': 3}, page_content='3\\n\\n1.9\\n\\n¿La Empresa puede prestar el Servicio en 60 días corridos?\\n\\n2. En cuanto al Servicio:\\n\\n2.1\\n\\n¿Cuáles son las principales funcionalidades que ofrece la solución, y cuáles de ellos ha \\nimplementado?\\n\\n2.2\\n\\n¿Cuáles serían las soluciones para recopilación de información, análisis, procesamiento \\ny visualización?\\n\\n2.3\\n\\n¿Se ha implementado la solución en ambiente Cloud/on premise?\\n\\n2.4\\n\\n¿Si la solución es en nube, para una solución privada, cómo asegura la desconexión de la \\nsolución en nube? ¿Existe alguna limitante?\\n\\n2.5\\n\\n¿Qué metodología se emplea en un proyecto de implementación?\\n\\n2.6\\n\\n¿Cuánto tiempo se estima para la ejecución de un proyecto de implementación hasta la \\npuesta en operación, incluyendo capacitaciones y entrenamiento del modelo?\\n\\n2.7\\n\\n¿Qué tipo de perfil de equipo de proyecto se debe considerar para una implementación \\nde la solución? ¿Cuenta con un plan para nivelar las competencias básicas?\\n\\n2.8\\n\\n¿Cuáles son los requerimientos técnicos que requiere la solución?'), Document(metadata={'source': 'Banco Central.pdf', 'page': 2}, page_content='1.6 El Servicio deberá considerar reuniones de coordinación y avances diarios/ semanal con las contrapartes del Banco.\\n   1.7 Una vez finalizada la habilitación del servicio, de existir, el Proveedor deberá eliminar la información recopilada y acreditar esta acción a través de un certificado.\\n   1.8 Los servicios se pueden realizar de forma presencial o remota, previa coordinación con el Interlocutor Válido de la Contraloría del Banco.'), Document(metadata={'source': 'Banco Central.pdf', 'page': 4}, page_content='# VII. Antecedentes y datos de la Empresa\\n\\n## 1) Antecedentes de la Empresa\\n\\n- Años en el mercado\\n- Años de Experiencia en servicios similares\\n- Número de empleados total\\n- Número de consultores total\\n  (detallar por especialidad y si son o no certificados)\\n- Certificaciones de la Empresa\\n\\n## 2) Datos de la empresa\\n\\nRazón Social:\\n\\nRUT:\\n\\nDomicilio:\\n\\nContacto comercial\\n- Nombre:\\n- Correo electrónico:\\n- Teléfono móvil:\\n\\nSantiago, 18 de julio 2024'), Document(metadata={'source': 'Banco Central.pdf', 'page': 1}, page_content='En caso de que la Empresa tenga consultas u observaciones respecto del Proyecto o este proceso y su Cuestionario, deberá formularlas a más tardar el 30 de julio de 2024 al correo electrónico: cromero@bcentral.cl con copia a cotizaciones@bcentral.cl, indicando en el asunto PREGUNTAS: 90007360 Consultas HERRAMIENTA DE APOYO AUDITORÍAS, las que serán respondidas el 1 de agosto de 2024, sin indicar el autor de las preguntas u observaciones formuladas.\\n\\nPosteriormente, la Empresa deberá enviar sus respuestas al Cuestionario detallado en el numeral IV de este documento, hasta el día 9 de agosto de 2024, a los siguientes correos electrónicos: cromero@bcentral.cl con copia a cotizaciones@bcentral.cl, indicando en el asunto RESPUESTA: 90007360 Consulta HERRAMIENTA DE APOYO AUDITORÍAS.'), Document(metadata={'source': 'Banco Central.pdf', 'page': 3}, page_content='2.8\\n\\n¿Cuáles son los requerimientos técnicos que requiere la solución?\\n\\n2.9\\n\\n¿Se puede configurar bases privadas a medida y/o manejar versiones de ellas?\\n\\n2.10\\n\\n¿Qué herramienta de visualización entrega la solución? ¿se integra esta funcionalidad a \\nsoluciones de office u otras?\\n\\n2.11\\n\\nLos resultados/productos cuentan con la posibilidad de descargar el resumen y detalle \\nde la información desplegada.\\n\\n2.12\\n\\n¿Qué mecanismo de seguridad incluye la solución?\\n\\n2.13\\n\\n¿Se puede integrar y habilitar acceso mediante Single Sign On (SSO) con Azure AD? ¿Qué \\nse requiere para ello?\\n\\n2.14\\n\\n¿Cómo opera el licenciamiento y costo de usar la solución?\\n\\n2.15\\n\\nIndicar un costo referencial en base a la situación expuesta y la solución que usted \\nvisualiza como adecuada.\\n\\n2.16\\n\\nOtra información relevante que la empresa estime relevante incorporar a esta consulta \\nal mercado.')]\n"
     ]
    }
   ],
   "source": [
    "db                      = FAISS.load_local(local_path, embeddings, allow_dangerous_deserialization=True)\n",
    "retriever               = db.as_retriever(search_kwargs = {'k':num_docs}, search_type = \"mmr\")\n",
    "docs                    = retriever.invoke(query)\n",
    "print (docs)"
   ]
  }
 ],
 "metadata": {
  "kernelspec": {
   "display_name": ".venv",
   "language": "python",
   "name": "python3"
  },
  "language_info": {
   "codemirror_mode": {
    "name": "ipython",
    "version": 3
   },
   "file_extension": ".py",
   "mimetype": "text/x-python",
   "name": "python",
   "nbconvert_exporter": "python",
   "pygments_lexer": "ipython3",
   "version": "3.12.4"
  }
 },
 "nbformat": 4,
 "nbformat_minor": 2
}
